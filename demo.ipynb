{
 "cells": [
  {
   "cell_type": "markdown",
   "metadata": {},
   "source": [
    "# Introduction\n",
    "In this demo, we will focus on techniques such as using Pandas to manipulate data, adding new features to your model, and fitting + training your model.\n",
    "\n",
    "## Pandas 🐼\n",
    "Pandas is a powerful data analysis library that allows you to manipulate data. In this project, we will convert the csv files that contain the labels and existing features to Pandas Dataframe object in order to add new features and edit the data if we want to. \n",
    "\n",
    "Optional: Take a look at the [Pandas Dataframe documentation](https://pandas.pydata.org/docs/reference/frame.html) if you're interested.\n",
    "\n",
    "## scikit-learn\n",
    "We will be using scikit-learn to split our data, train and refine our models, and do other amazing ML stuff. This library has many useful tools from finetuning hyperparameters to training your model and computing accuracy scores.\n",
    "\n",
    "## Goal\n",
    "Able to classify labels from **question** and **not a question** with an accuracy of 90+%."
   ]
  },
  {
   "cell_type": "code",
   "execution_count": 23,
   "metadata": {},
   "outputs": [],
   "source": [
    "import numpy as np\n",
    "import pandas as pd\n",
    "import re\n",
    "from sklearn.feature_extraction.text import TfidfVectorizer\n",
    "from sklearn.metrics import accuracy_score\n",
    "from sklearn.model_selection import cross_val_score\n",
    "from sklearn.model_selection import GridSearchCV\n",
    "from sklearn.model_selection import KFold\n",
    "from sklearn.model_selection import train_test_split\n",
    "from sklearn.neighbors import KNeighborsClassifier\n",
    "from sklearn.linear_model import LinearRegression\n",
    "from sklearn.linear_model import SGDClassifier"
   ]
  },
  {
   "cell_type": "markdown",
   "metadata": {},
   "source": [
    "## Import and clean the data"
   ]
  },
  {
   "cell_type": "code",
   "execution_count": 2,
   "metadata": {},
   "outputs": [
    {
     "data": {
      "text/html": [
       "<div>\n",
       "<style scoped>\n",
       "    .dataframe tbody tr th:only-of-type {\n",
       "        vertical-align: middle;\n",
       "    }\n",
       "\n",
       "    .dataframe tbody tr th {\n",
       "        vertical-align: top;\n",
       "    }\n",
       "\n",
       "    .dataframe thead th {\n",
       "        text-align: right;\n",
       "    }\n",
       "</style>\n",
       "<table border=\"1\" class=\"dataframe\">\n",
       "  <thead>\n",
       "    <tr style=\"text-align: right;\">\n",
       "      <th></th>\n",
       "      <th>label</th>\n",
       "      <th>is_question</th>\n",
       "      <th>length</th>\n",
       "      <th>wordcount</th>\n",
       "      <th>question_mark</th>\n",
       "      <th>colon</th>\n",
       "      <th>tx_confidence</th>\n",
       "      <th>left</th>\n",
       "      <th>right</th>\n",
       "      <th>top</th>\n",
       "      <th>bottom</th>\n",
       "    </tr>\n",
       "  </thead>\n",
       "  <tbody>\n",
       "    <tr>\n",
       "      <th>0</th>\n",
       "      <td>YOUR HOSPITAL BLOOD BANK</td>\n",
       "      <td>0</td>\n",
       "      <td>24</td>\n",
       "      <td>4</td>\n",
       "      <td>0</td>\n",
       "      <td>0</td>\n",
       "      <td>0.000000</td>\n",
       "      <td>0.204442</td>\n",
       "      <td>0.436648</td>\n",
       "      <td>0.279070</td>\n",
       "      <td>0.299010</td>\n",
       "    </tr>\n",
       "    <tr>\n",
       "      <th>1</th>\n",
       "      <td>FILE</td>\n",
       "      <td>0</td>\n",
       "      <td>4</td>\n",
       "      <td>1</td>\n",
       "      <td>0</td>\n",
       "      <td>0</td>\n",
       "      <td>0.000000</td>\n",
       "      <td>0.707655</td>\n",
       "      <td>0.731480</td>\n",
       "      <td>0.275127</td>\n",
       "      <td>0.290316</td>\n",
       "    </tr>\n",
       "    <tr>\n",
       "      <th>2</th>\n",
       "      <td>RETURN TO BLOOD BANK AFTER TRANSFUSION</td>\n",
       "      <td>0</td>\n",
       "      <td>38</td>\n",
       "      <td>6</td>\n",
       "      <td>0</td>\n",
       "      <td>0</td>\n",
       "      <td>0.000000</td>\n",
       "      <td>0.575593</td>\n",
       "      <td>0.843220</td>\n",
       "      <td>0.292005</td>\n",
       "      <td>0.309388</td>\n",
       "    </tr>\n",
       "    <tr>\n",
       "      <th>3</th>\n",
       "      <td>NAME OF RECIPIENT</td>\n",
       "      <td>1</td>\n",
       "      <td>17</td>\n",
       "      <td>3</td>\n",
       "      <td>0</td>\n",
       "      <td>0</td>\n",
       "      <td>77.241501</td>\n",
       "      <td>0.107973</td>\n",
       "      <td>0.198529</td>\n",
       "      <td>0.309325</td>\n",
       "      <td>0.324180</td>\n",
       "    </tr>\n",
       "    <tr>\n",
       "      <th>4</th>\n",
       "      <td>MEDTCAL RECORD #</td>\n",
       "      <td>1</td>\n",
       "      <td>16</td>\n",
       "      <td>3</td>\n",
       "      <td>0</td>\n",
       "      <td>0</td>\n",
       "      <td>77.615753</td>\n",
       "      <td>0.419500</td>\n",
       "      <td>0.507820</td>\n",
       "      <td>0.309093</td>\n",
       "      <td>0.322000</td>\n",
       "    </tr>\n",
       "  </tbody>\n",
       "</table>\n",
       "</div>"
      ],
      "text/plain": [
       "                                    label  is_question  length  wordcount  \\\n",
       "0                YOUR HOSPITAL BLOOD BANK            0      24          4   \n",
       "1                                    FILE            0       4          1   \n",
       "2  RETURN TO BLOOD BANK AFTER TRANSFUSION            0      38          6   \n",
       "3                       NAME OF RECIPIENT            1      17          3   \n",
       "4                        MEDTCAL RECORD #            1      16          3   \n",
       "\n",
       "   question_mark  colon  tx_confidence      left     right       top    bottom  \n",
       "0              0      0       0.000000  0.204442  0.436648  0.279070  0.299010  \n",
       "1              0      0       0.000000  0.707655  0.731480  0.275127  0.290316  \n",
       "2              0      0       0.000000  0.575593  0.843220  0.292005  0.309388  \n",
       "3              0      0      77.241501  0.107973  0.198529  0.309325  0.324180  \n",
       "4              0      0      77.615753  0.419500  0.507820  0.309093  0.322000  "
      ]
     },
     "execution_count": 2,
     "metadata": {},
     "output_type": "execute_result"
    }
   ],
   "source": [
    "# import csv file that contains the labels and features to dataframe using read_csv\n",
    "dataframe = pd.read_csv('demo.csv')\n",
    "\n",
    "# peek at the first 5 rows to make sure the data looks ok\n",
    "# label [string]: label extracted from textract\n",
    "# is_question [0 or 1]: is the label a question or not a question \n",
    "# rest of the columns: features to identify if label is a question or not\n",
    "dataframe.head()"
   ]
  },
  {
   "cell_type": "code",
   "execution_count": 3,
   "metadata": {},
   "outputs": [
    {
     "data": {
      "text/plain": [
       "(764, 11)"
      ]
     },
     "execution_count": 3,
     "metadata": {},
     "output_type": "execute_result"
    }
   ],
   "source": [
    "# peek at the number of rows and columns in the csv\n",
    "dataframe.shape"
   ]
  },
  {
   "cell_type": "code",
   "execution_count": 4,
   "metadata": {},
   "outputs": [
    {
     "data": {
      "text/html": [
       "<div>\n",
       "<style scoped>\n",
       "    .dataframe tbody tr th:only-of-type {\n",
       "        vertical-align: middle;\n",
       "    }\n",
       "\n",
       "    .dataframe tbody tr th {\n",
       "        vertical-align: top;\n",
       "    }\n",
       "\n",
       "    .dataframe thead th {\n",
       "        text-align: right;\n",
       "    }\n",
       "</style>\n",
       "<table border=\"1\" class=\"dataframe\">\n",
       "  <thead>\n",
       "    <tr style=\"text-align: right;\">\n",
       "      <th></th>\n",
       "      <th>label</th>\n",
       "      <th>is_question</th>\n",
       "      <th>length</th>\n",
       "      <th>wordcount</th>\n",
       "      <th>question_mark</th>\n",
       "      <th>colon</th>\n",
       "      <th>tx_confidence</th>\n",
       "      <th>left</th>\n",
       "      <th>right</th>\n",
       "      <th>top</th>\n",
       "      <th>bottom</th>\n",
       "    </tr>\n",
       "  </thead>\n",
       "  <tbody>\n",
       "    <tr>\n",
       "      <th>318</th>\n",
       "      <td>Phone #:</td>\n",
       "      <td>1</td>\n",
       "      <td>8</td>\n",
       "      <td>2</td>\n",
       "      <td>0</td>\n",
       "      <td>1</td>\n",
       "      <td>79.189041</td>\n",
       "      <td>0.737831</td>\n",
       "      <td>0.790565</td>\n",
       "      <td>0.295985</td>\n",
       "      <td>0.308895</td>\n",
       "    </tr>\n",
       "    <tr>\n",
       "      <th>533</th>\n",
       "      <td>) Diabetes</td>\n",
       "      <td>1</td>\n",
       "      <td>10</td>\n",
       "      <td>2</td>\n",
       "      <td>0</td>\n",
       "      <td>0</td>\n",
       "      <td>0.000000</td>\n",
       "      <td>0.466562</td>\n",
       "      <td>0.542239</td>\n",
       "      <td>0.032046</td>\n",
       "      <td>0.044946</td>\n",
       "    </tr>\n",
       "    <tr>\n",
       "      <th>68</th>\n",
       "      <td>Crossmatch Date/Time:</td>\n",
       "      <td>1</td>\n",
       "      <td>21</td>\n",
       "      <td>2</td>\n",
       "      <td>0</td>\n",
       "      <td>1</td>\n",
       "      <td>48.565109</td>\n",
       "      <td>0.337732</td>\n",
       "      <td>0.474819</td>\n",
       "      <td>0.279058</td>\n",
       "      <td>0.291220</td>\n",
       "    </tr>\n",
       "    <tr>\n",
       "      <th>381</th>\n",
       "      <td>Refer to other Community Services:</td>\n",
       "      <td>1</td>\n",
       "      <td>34</td>\n",
       "      <td>5</td>\n",
       "      <td>0</td>\n",
       "      <td>1</td>\n",
       "      <td>83.656227</td>\n",
       "      <td>0.552849</td>\n",
       "      <td>0.761436</td>\n",
       "      <td>0.668570</td>\n",
       "      <td>0.680803</td>\n",
       "    </tr>\n",
       "    <tr>\n",
       "      <th>122</th>\n",
       "      <td>1 Hour from start</td>\n",
       "      <td>1</td>\n",
       "      <td>17</td>\n",
       "      <td>4</td>\n",
       "      <td>0</td>\n",
       "      <td>0</td>\n",
       "      <td>0.000000</td>\n",
       "      <td>0.124489</td>\n",
       "      <td>0.246901</td>\n",
       "      <td>0.776878</td>\n",
       "      <td>0.789216</td>\n",
       "    </tr>\n",
       "    <tr>\n",
       "      <th>243</th>\n",
       "      <td>I have been notified of a change in the plan o...</td>\n",
       "      <td>1</td>\n",
       "      <td>53</td>\n",
       "      <td>12</td>\n",
       "      <td>0</td>\n",
       "      <td>0</td>\n",
       "      <td>59.705364</td>\n",
       "      <td>0.104954</td>\n",
       "      <td>0.444643</td>\n",
       "      <td>0.340402</td>\n",
       "      <td>0.352384</td>\n",
       "    </tr>\n",
       "    <tr>\n",
       "      <th>34</th>\n",
       "      <td>** IF \"YES\" NOTIFY BLOOD PHYSICIAN, AND COMPLE...</td>\n",
       "      <td>0</td>\n",
       "      <td>70</td>\n",
       "      <td>11</td>\n",
       "      <td>0</td>\n",
       "      <td>0</td>\n",
       "      <td>0.000000</td>\n",
       "      <td>0.775179</td>\n",
       "      <td>0.874035</td>\n",
       "      <td>0.502880</td>\n",
       "      <td>0.515524</td>\n",
       "    </tr>\n",
       "    <tr>\n",
       "      <th>28</th>\n",
       "      <td>TIME FINISHED</td>\n",
       "      <td>1</td>\n",
       "      <td>13</td>\n",
       "      <td>2</td>\n",
       "      <td>0</td>\n",
       "      <td>0</td>\n",
       "      <td>0.000000</td>\n",
       "      <td>0.000000</td>\n",
       "      <td>0.000000</td>\n",
       "      <td>0.000000</td>\n",
       "      <td>0.000000</td>\n",
       "    </tr>\n",
       "    <tr>\n",
       "      <th>475</th>\n",
       "      <td>MD Office ( )</td>\n",
       "      <td>1</td>\n",
       "      <td>13</td>\n",
       "      <td>4</td>\n",
       "      <td>0</td>\n",
       "      <td>0</td>\n",
       "      <td>0.000000</td>\n",
       "      <td>0.677996</td>\n",
       "      <td>0.786652</td>\n",
       "      <td>0.371336</td>\n",
       "      <td>0.384906</td>\n",
       "    </tr>\n",
       "    <tr>\n",
       "      <th>75</th>\n",
       "      <td>(For Rh Immune Globulin injections with no adv...</td>\n",
       "      <td>0</td>\n",
       "      <td>96</td>\n",
       "      <td>14</td>\n",
       "      <td>0</td>\n",
       "      <td>0</td>\n",
       "      <td>0.000000</td>\n",
       "      <td>0.180676</td>\n",
       "      <td>0.811592</td>\n",
       "      <td>0.350183</td>\n",
       "      <td>0.363568</td>\n",
       "    </tr>\n",
       "  </tbody>\n",
       "</table>\n",
       "</div>"
      ],
      "text/plain": [
       "                                                 label  is_question  length  \\\n",
       "318                                           Phone #:            1       8   \n",
       "533                                         ) Diabetes            1      10   \n",
       "68                               Crossmatch Date/Time:            1      21   \n",
       "381                 Refer to other Community Services:            1      34   \n",
       "122                                  1 Hour from start            1      17   \n",
       "243  I have been notified of a change in the plan o...            1      53   \n",
       "34   ** IF \"YES\" NOTIFY BLOOD PHYSICIAN, AND COMPLE...            0      70   \n",
       "28                                       TIME FINISHED            1      13   \n",
       "475                                      MD Office ( )            1      13   \n",
       "75   (For Rh Immune Globulin injections with no adv...            0      96   \n",
       "\n",
       "     wordcount  question_mark  colon  tx_confidence      left     right  \\\n",
       "318          2              0      1      79.189041  0.737831  0.790565   \n",
       "533          2              0      0       0.000000  0.466562  0.542239   \n",
       "68           2              0      1      48.565109  0.337732  0.474819   \n",
       "381          5              0      1      83.656227  0.552849  0.761436   \n",
       "122          4              0      0       0.000000  0.124489  0.246901   \n",
       "243         12              0      0      59.705364  0.104954  0.444643   \n",
       "34          11              0      0       0.000000  0.775179  0.874035   \n",
       "28           2              0      0       0.000000  0.000000  0.000000   \n",
       "475          4              0      0       0.000000  0.677996  0.786652   \n",
       "75          14              0      0       0.000000  0.180676  0.811592   \n",
       "\n",
       "          top    bottom  \n",
       "318  0.295985  0.308895  \n",
       "533  0.032046  0.044946  \n",
       "68   0.279058  0.291220  \n",
       "381  0.668570  0.680803  \n",
       "122  0.776878  0.789216  \n",
       "243  0.340402  0.352384  \n",
       "34   0.502880  0.515524  \n",
       "28   0.000000  0.000000  \n",
       "475  0.371336  0.384906  \n",
       "75   0.350183  0.363568  "
      ]
     },
     "execution_count": 4,
     "metadata": {},
     "output_type": "execute_result"
    }
   ],
   "source": [
    "# random peek at some rows \n",
    "dataframe.sample(n=10)"
   ]
  },
  {
   "cell_type": "code",
   "execution_count": 5,
   "metadata": {},
   "outputs": [
    {
     "data": {
      "text/html": [
       "<div>\n",
       "<style scoped>\n",
       "    .dataframe tbody tr th:only-of-type {\n",
       "        vertical-align: middle;\n",
       "    }\n",
       "\n",
       "    .dataframe tbody tr th {\n",
       "        vertical-align: top;\n",
       "    }\n",
       "\n",
       "    .dataframe thead th {\n",
       "        text-align: right;\n",
       "    }\n",
       "</style>\n",
       "<table border=\"1\" class=\"dataframe\">\n",
       "  <thead>\n",
       "    <tr style=\"text-align: right;\">\n",
       "      <th></th>\n",
       "      <th>label</th>\n",
       "      <th>length</th>\n",
       "      <th>wordcount</th>\n",
       "      <th>question_mark</th>\n",
       "      <th>colon</th>\n",
       "      <th>tx_confidence</th>\n",
       "      <th>left</th>\n",
       "      <th>right</th>\n",
       "      <th>top</th>\n",
       "      <th>bottom</th>\n",
       "    </tr>\n",
       "  </thead>\n",
       "  <tbody>\n",
       "    <tr>\n",
       "      <th>0</th>\n",
       "      <td>YOUR HOSPITAL BLOOD BANK</td>\n",
       "      <td>24</td>\n",
       "      <td>4</td>\n",
       "      <td>0</td>\n",
       "      <td>0</td>\n",
       "      <td>0.000000</td>\n",
       "      <td>0.204442</td>\n",
       "      <td>0.436648</td>\n",
       "      <td>0.279070</td>\n",
       "      <td>0.299010</td>\n",
       "    </tr>\n",
       "    <tr>\n",
       "      <th>1</th>\n",
       "      <td>FILE</td>\n",
       "      <td>4</td>\n",
       "      <td>1</td>\n",
       "      <td>0</td>\n",
       "      <td>0</td>\n",
       "      <td>0.000000</td>\n",
       "      <td>0.707655</td>\n",
       "      <td>0.731480</td>\n",
       "      <td>0.275127</td>\n",
       "      <td>0.290316</td>\n",
       "    </tr>\n",
       "    <tr>\n",
       "      <th>2</th>\n",
       "      <td>RETURN TO BLOOD BANK AFTER TRANSFUSION</td>\n",
       "      <td>38</td>\n",
       "      <td>6</td>\n",
       "      <td>0</td>\n",
       "      <td>0</td>\n",
       "      <td>0.000000</td>\n",
       "      <td>0.575593</td>\n",
       "      <td>0.843220</td>\n",
       "      <td>0.292005</td>\n",
       "      <td>0.309388</td>\n",
       "    </tr>\n",
       "    <tr>\n",
       "      <th>3</th>\n",
       "      <td>NAME OF RECIPIENT</td>\n",
       "      <td>17</td>\n",
       "      <td>3</td>\n",
       "      <td>0</td>\n",
       "      <td>0</td>\n",
       "      <td>77.241501</td>\n",
       "      <td>0.107973</td>\n",
       "      <td>0.198529</td>\n",
       "      <td>0.309325</td>\n",
       "      <td>0.324180</td>\n",
       "    </tr>\n",
       "    <tr>\n",
       "      <th>4</th>\n",
       "      <td>MEDTCAL RECORD #</td>\n",
       "      <td>16</td>\n",
       "      <td>3</td>\n",
       "      <td>0</td>\n",
       "      <td>0</td>\n",
       "      <td>77.615753</td>\n",
       "      <td>0.419500</td>\n",
       "      <td>0.507820</td>\n",
       "      <td>0.309093</td>\n",
       "      <td>0.322000</td>\n",
       "    </tr>\n",
       "  </tbody>\n",
       "</table>\n",
       "</div>"
      ],
      "text/plain": [
       "                                    label  length  wordcount  question_mark  \\\n",
       "0                YOUR HOSPITAL BLOOD BANK      24          4              0   \n",
       "1                                    FILE       4          1              0   \n",
       "2  RETURN TO BLOOD BANK AFTER TRANSFUSION      38          6              0   \n",
       "3                       NAME OF RECIPIENT      17          3              0   \n",
       "4                        MEDTCAL RECORD #      16          3              0   \n",
       "\n",
       "   colon  tx_confidence      left     right       top    bottom  \n",
       "0      0       0.000000  0.204442  0.436648  0.279070  0.299010  \n",
       "1      0       0.000000  0.707655  0.731480  0.275127  0.290316  \n",
       "2      0       0.000000  0.575593  0.843220  0.292005  0.309388  \n",
       "3      0      77.241501  0.107973  0.198529  0.309325  0.324180  \n",
       "4      0      77.615753  0.419500  0.507820  0.309093  0.322000  "
      ]
     },
     "execution_count": 5,
     "metadata": {},
     "output_type": "execute_result"
    }
   ],
   "source": [
    "# Get the column of question labels\n",
    "question_column = dataframe['is_question']\n",
    "\n",
    "# If you don't want a column, you can drop it\n",
    "dataframe.drop(['is_question'], axis=1, inplace=True)\n",
    "dataframe.head()"
   ]
  },
  {
   "cell_type": "markdown",
   "metadata": {},
   "source": [
    "## Insert new feature\n",
    "\n",
    "You can think of features as being the dimension that your data live in. If you have one feature, then when you train and fit your model, the datapoints are like a one dimensional point on a line. \n",
    "\n",
    "In this demo, we will add a new feature to the proportion of capital letters to length of word.\n",
    "\n",
    "E.g. 'ABCDabcd' will be 4/8 or 0.5"
   ]
  },
  {
   "cell_type": "code",
   "execution_count": 6,
   "metadata": {},
   "outputs": [
    {
     "data": {
      "text/html": [
       "<div>\n",
       "<style scoped>\n",
       "    .dataframe tbody tr th:only-of-type {\n",
       "        vertical-align: middle;\n",
       "    }\n",
       "\n",
       "    .dataframe tbody tr th {\n",
       "        vertical-align: top;\n",
       "    }\n",
       "\n",
       "    .dataframe thead th {\n",
       "        text-align: right;\n",
       "    }\n",
       "</style>\n",
       "<table border=\"1\" class=\"dataframe\">\n",
       "  <thead>\n",
       "    <tr style=\"text-align: right;\">\n",
       "      <th></th>\n",
       "      <th>label</th>\n",
       "      <th>length</th>\n",
       "      <th>wordcount</th>\n",
       "      <th>question_mark</th>\n",
       "      <th>colon</th>\n",
       "      <th>tx_confidence</th>\n",
       "      <th>left</th>\n",
       "      <th>right</th>\n",
       "      <th>top</th>\n",
       "      <th>bottom</th>\n",
       "      <th>capital</th>\n",
       "    </tr>\n",
       "  </thead>\n",
       "  <tbody>\n",
       "    <tr>\n",
       "      <th>0</th>\n",
       "      <td>YOUR HOSPITAL BLOOD BANK</td>\n",
       "      <td>24</td>\n",
       "      <td>4</td>\n",
       "      <td>0</td>\n",
       "      <td>0</td>\n",
       "      <td>0.000000</td>\n",
       "      <td>0.204442</td>\n",
       "      <td>0.436648</td>\n",
       "      <td>0.279070</td>\n",
       "      <td>0.299010</td>\n",
       "      <td>0.875000</td>\n",
       "    </tr>\n",
       "    <tr>\n",
       "      <th>1</th>\n",
       "      <td>FILE</td>\n",
       "      <td>4</td>\n",
       "      <td>1</td>\n",
       "      <td>0</td>\n",
       "      <td>0</td>\n",
       "      <td>0.000000</td>\n",
       "      <td>0.707655</td>\n",
       "      <td>0.731480</td>\n",
       "      <td>0.275127</td>\n",
       "      <td>0.290316</td>\n",
       "      <td>1.000000</td>\n",
       "    </tr>\n",
       "    <tr>\n",
       "      <th>2</th>\n",
       "      <td>RETURN TO BLOOD BANK AFTER TRANSFUSION</td>\n",
       "      <td>38</td>\n",
       "      <td>6</td>\n",
       "      <td>0</td>\n",
       "      <td>0</td>\n",
       "      <td>0.000000</td>\n",
       "      <td>0.575593</td>\n",
       "      <td>0.843220</td>\n",
       "      <td>0.292005</td>\n",
       "      <td>0.309388</td>\n",
       "      <td>0.868421</td>\n",
       "    </tr>\n",
       "    <tr>\n",
       "      <th>3</th>\n",
       "      <td>NAME OF RECIPIENT</td>\n",
       "      <td>17</td>\n",
       "      <td>3</td>\n",
       "      <td>0</td>\n",
       "      <td>0</td>\n",
       "      <td>77.241501</td>\n",
       "      <td>0.107973</td>\n",
       "      <td>0.198529</td>\n",
       "      <td>0.309325</td>\n",
       "      <td>0.324180</td>\n",
       "      <td>0.882353</td>\n",
       "    </tr>\n",
       "    <tr>\n",
       "      <th>4</th>\n",
       "      <td>MEDTCAL RECORD #</td>\n",
       "      <td>16</td>\n",
       "      <td>3</td>\n",
       "      <td>0</td>\n",
       "      <td>0</td>\n",
       "      <td>77.615753</td>\n",
       "      <td>0.419500</td>\n",
       "      <td>0.507820</td>\n",
       "      <td>0.309093</td>\n",
       "      <td>0.322000</td>\n",
       "      <td>0.812500</td>\n",
       "    </tr>\n",
       "  </tbody>\n",
       "</table>\n",
       "</div>"
      ],
      "text/plain": [
       "                                    label  length  wordcount  question_mark  \\\n",
       "0                YOUR HOSPITAL BLOOD BANK      24          4              0   \n",
       "1                                    FILE       4          1              0   \n",
       "2  RETURN TO BLOOD BANK AFTER TRANSFUSION      38          6              0   \n",
       "3                       NAME OF RECIPIENT      17          3              0   \n",
       "4                        MEDTCAL RECORD #      16          3              0   \n",
       "\n",
       "   colon  tx_confidence      left     right       top    bottom   capital  \n",
       "0      0       0.000000  0.204442  0.436648  0.279070  0.299010  0.875000  \n",
       "1      0       0.000000  0.707655  0.731480  0.275127  0.290316  1.000000  \n",
       "2      0       0.000000  0.575593  0.843220  0.292005  0.309388  0.868421  \n",
       "3      0      77.241501  0.107973  0.198529  0.309325  0.324180  0.882353  \n",
       "4      0      77.615753  0.419500  0.507820  0.309093  0.322000  0.812500  "
      ]
     },
     "execution_count": 6,
     "metadata": {},
     "output_type": "execute_result"
    }
   ],
   "source": [
    "def capital_proportion(row):\n",
    "    return len(re.findall(r'[A-Z]', row['label'])) / row['length']\n",
    "\n",
    "# Method 1: `apply(func, axis=0/1)` iterates through the rows and apply the function. Axis 1 = column\n",
    "dataframe['capital'] = dataframe.apply(capital_proportion, axis=1)\n",
    "\n",
    "# Method 2: apply to series (aka columns of Dataframe object) and insert into dataframe\n",
    "# dataframe['capital'] = dataframe['label'].apply(lambda label: len(re.findall(r'[A-Z]', label)) / len(label))\n",
    "\n",
    "# Method 3: insert into pandas dataframe (read documentation here)\n",
    "# https://pandas.pydata.org/pandas-docs/stable/reference/api/pandas.DataFrame.insert.html\n",
    "\n",
    "dataframe.head()"
   ]
  },
  {
   "cell_type": "markdown",
   "metadata": {},
   "source": [
    "## Train your model\n",
    "\n",
    "Before training your model, you should **split your dataset into a training set and a test set**. Training set is the set of data that you will train your model on. Testing set is for predicting how well your model does."
   ]
  },
  {
   "cell_type": "code",
   "execution_count": 7,
   "metadata": {},
   "outputs": [
    {
     "name": "stdout",
     "output_type": "stream",
     "text": [
      "(764, 952)\n"
     ]
    },
    {
     "data": {
      "text/html": [
       "<div>\n",
       "<style scoped>\n",
       "    .dataframe tbody tr th:only-of-type {\n",
       "        vertical-align: middle;\n",
       "    }\n",
       "\n",
       "    .dataframe tbody tr th {\n",
       "        vertical-align: top;\n",
       "    }\n",
       "\n",
       "    .dataframe thead th {\n",
       "        text-align: right;\n",
       "    }\n",
       "</style>\n",
       "<table border=\"1\" class=\"dataframe\">\n",
       "  <thead>\n",
       "    <tr style=\"text-align: right;\">\n",
       "      <th></th>\n",
       "      <th>00</th>\n",
       "      <th>000</th>\n",
       "      <th>03</th>\n",
       "      <th>032</th>\n",
       "      <th>05</th>\n",
       "      <th>10</th>\n",
       "      <th>105</th>\n",
       "      <th>106</th>\n",
       "      <th>108</th>\n",
       "      <th>11</th>\n",
       "      <th>...</th>\n",
       "      <th>xxxx</th>\n",
       "      <th>xxxxx</th>\n",
       "      <th>year</th>\n",
       "      <th>yearly</th>\n",
       "      <th>years</th>\n",
       "      <th>yeast</th>\n",
       "      <th>yes</th>\n",
       "      <th>you</th>\n",
       "      <th>your</th>\n",
       "      <th>zip</th>\n",
       "    </tr>\n",
       "  </thead>\n",
       "  <tbody>\n",
       "    <tr>\n",
       "      <th>0</th>\n",
       "      <td>0.0</td>\n",
       "      <td>0.0</td>\n",
       "      <td>0.0</td>\n",
       "      <td>0.0</td>\n",
       "      <td>0.0</td>\n",
       "      <td>0.0</td>\n",
       "      <td>0.0</td>\n",
       "      <td>0.0</td>\n",
       "      <td>0.0</td>\n",
       "      <td>0.0</td>\n",
       "      <td>...</td>\n",
       "      <td>0.0</td>\n",
       "      <td>0.0</td>\n",
       "      <td>0.0</td>\n",
       "      <td>0.0</td>\n",
       "      <td>0.0</td>\n",
       "      <td>0.0</td>\n",
       "      <td>0.0</td>\n",
       "      <td>0.0</td>\n",
       "      <td>0.452608</td>\n",
       "      <td>0.0</td>\n",
       "    </tr>\n",
       "    <tr>\n",
       "      <th>1</th>\n",
       "      <td>0.0</td>\n",
       "      <td>0.0</td>\n",
       "      <td>0.0</td>\n",
       "      <td>0.0</td>\n",
       "      <td>0.0</td>\n",
       "      <td>0.0</td>\n",
       "      <td>0.0</td>\n",
       "      <td>0.0</td>\n",
       "      <td>0.0</td>\n",
       "      <td>0.0</td>\n",
       "      <td>...</td>\n",
       "      <td>0.0</td>\n",
       "      <td>0.0</td>\n",
       "      <td>0.0</td>\n",
       "      <td>0.0</td>\n",
       "      <td>0.0</td>\n",
       "      <td>0.0</td>\n",
       "      <td>0.0</td>\n",
       "      <td>0.0</td>\n",
       "      <td>0.000000</td>\n",
       "      <td>0.0</td>\n",
       "    </tr>\n",
       "    <tr>\n",
       "      <th>2</th>\n",
       "      <td>0.0</td>\n",
       "      <td>0.0</td>\n",
       "      <td>0.0</td>\n",
       "      <td>0.0</td>\n",
       "      <td>0.0</td>\n",
       "      <td>0.0</td>\n",
       "      <td>0.0</td>\n",
       "      <td>0.0</td>\n",
       "      <td>0.0</td>\n",
       "      <td>0.0</td>\n",
       "      <td>...</td>\n",
       "      <td>0.0</td>\n",
       "      <td>0.0</td>\n",
       "      <td>0.0</td>\n",
       "      <td>0.0</td>\n",
       "      <td>0.0</td>\n",
       "      <td>0.0</td>\n",
       "      <td>0.0</td>\n",
       "      <td>0.0</td>\n",
       "      <td>0.000000</td>\n",
       "      <td>0.0</td>\n",
       "    </tr>\n",
       "    <tr>\n",
       "      <th>3</th>\n",
       "      <td>0.0</td>\n",
       "      <td>0.0</td>\n",
       "      <td>0.0</td>\n",
       "      <td>0.0</td>\n",
       "      <td>0.0</td>\n",
       "      <td>0.0</td>\n",
       "      <td>0.0</td>\n",
       "      <td>0.0</td>\n",
       "      <td>0.0</td>\n",
       "      <td>0.0</td>\n",
       "      <td>...</td>\n",
       "      <td>0.0</td>\n",
       "      <td>0.0</td>\n",
       "      <td>0.0</td>\n",
       "      <td>0.0</td>\n",
       "      <td>0.0</td>\n",
       "      <td>0.0</td>\n",
       "      <td>0.0</td>\n",
       "      <td>0.0</td>\n",
       "      <td>0.000000</td>\n",
       "      <td>0.0</td>\n",
       "    </tr>\n",
       "    <tr>\n",
       "      <th>4</th>\n",
       "      <td>0.0</td>\n",
       "      <td>0.0</td>\n",
       "      <td>0.0</td>\n",
       "      <td>0.0</td>\n",
       "      <td>0.0</td>\n",
       "      <td>0.0</td>\n",
       "      <td>0.0</td>\n",
       "      <td>0.0</td>\n",
       "      <td>0.0</td>\n",
       "      <td>0.0</td>\n",
       "      <td>...</td>\n",
       "      <td>0.0</td>\n",
       "      <td>0.0</td>\n",
       "      <td>0.0</td>\n",
       "      <td>0.0</td>\n",
       "      <td>0.0</td>\n",
       "      <td>0.0</td>\n",
       "      <td>0.0</td>\n",
       "      <td>0.0</td>\n",
       "      <td>0.000000</td>\n",
       "      <td>0.0</td>\n",
       "    </tr>\n",
       "  </tbody>\n",
       "</table>\n",
       "<p>5 rows × 952 columns</p>\n",
       "</div>"
      ],
      "text/plain": [
       "    00  000   03  032   05   10  105  106  108   11 ...   xxxx  xxxxx  year  \\\n",
       "0  0.0  0.0  0.0  0.0  0.0  0.0  0.0  0.0  0.0  0.0 ...    0.0    0.0   0.0   \n",
       "1  0.0  0.0  0.0  0.0  0.0  0.0  0.0  0.0  0.0  0.0 ...    0.0    0.0   0.0   \n",
       "2  0.0  0.0  0.0  0.0  0.0  0.0  0.0  0.0  0.0  0.0 ...    0.0    0.0   0.0   \n",
       "3  0.0  0.0  0.0  0.0  0.0  0.0  0.0  0.0  0.0  0.0 ...    0.0    0.0   0.0   \n",
       "4  0.0  0.0  0.0  0.0  0.0  0.0  0.0  0.0  0.0  0.0 ...    0.0    0.0   0.0   \n",
       "\n",
       "   yearly  years  yeast  yes  you      your  zip  \n",
       "0     0.0    0.0    0.0  0.0  0.0  0.452608  0.0  \n",
       "1     0.0    0.0    0.0  0.0  0.0  0.000000  0.0  \n",
       "2     0.0    0.0    0.0  0.0  0.0  0.000000  0.0  \n",
       "3     0.0    0.0    0.0  0.0  0.0  0.000000  0.0  \n",
       "4     0.0    0.0    0.0  0.0  0.0  0.000000  0.0  \n",
       "\n",
       "[5 rows x 952 columns]"
      ]
     },
     "execution_count": 7,
     "metadata": {},
     "output_type": "execute_result"
    }
   ],
   "source": [
    "# Before you train your data, let's vectorize the label column since scikit learn doesn't take strings as input\n",
    "# Credit: Raymond Xu\n",
    "vectorizer = TfidfVectorizer(dataframe[\"label\"].tolist())\n",
    "vectors = vectorizer.fit_transform(dataframe[\"label\"].astype('U'))\n",
    "feature_names = vectorizer.get_feature_names()\n",
    "denselist = vectors.todense().tolist()\n",
    "df = pd.DataFrame(denselist, columns=feature_names)\n",
    "\n",
    "# Make sure the new dataframe has the same amount of data and looks ok\n",
    "print(df.shape)\n",
    "df.head()"
   ]
  },
  {
   "cell_type": "code",
   "execution_count": 8,
   "metadata": {},
   "outputs": [
    {
     "name": "stdout",
     "output_type": "stream",
     "text": [
      "(764, 957)\n"
     ]
    },
    {
     "data": {
      "text/html": [
       "<div>\n",
       "<style scoped>\n",
       "    .dataframe tbody tr th:only-of-type {\n",
       "        vertical-align: middle;\n",
       "    }\n",
       "\n",
       "    .dataframe tbody tr th {\n",
       "        vertical-align: top;\n",
       "    }\n",
       "\n",
       "    .dataframe thead th {\n",
       "        text-align: right;\n",
       "    }\n",
       "</style>\n",
       "<table border=\"1\" class=\"dataframe\">\n",
       "  <thead>\n",
       "    <tr style=\"text-align: right;\">\n",
       "      <th></th>\n",
       "      <th>capital</th>\n",
       "      <th>colon</th>\n",
       "      <th>question_mark</th>\n",
       "      <th>wordcount</th>\n",
       "      <th>length</th>\n",
       "      <th>00</th>\n",
       "      <th>000</th>\n",
       "      <th>03</th>\n",
       "      <th>032</th>\n",
       "      <th>05</th>\n",
       "      <th>...</th>\n",
       "      <th>xxxx</th>\n",
       "      <th>xxxxx</th>\n",
       "      <th>year</th>\n",
       "      <th>yearly</th>\n",
       "      <th>years</th>\n",
       "      <th>yeast</th>\n",
       "      <th>yes</th>\n",
       "      <th>you</th>\n",
       "      <th>your</th>\n",
       "      <th>zip</th>\n",
       "    </tr>\n",
       "  </thead>\n",
       "  <tbody>\n",
       "    <tr>\n",
       "      <th>0</th>\n",
       "      <td>0.875000</td>\n",
       "      <td>0</td>\n",
       "      <td>0</td>\n",
       "      <td>4</td>\n",
       "      <td>24</td>\n",
       "      <td>0.0</td>\n",
       "      <td>0.0</td>\n",
       "      <td>0.0</td>\n",
       "      <td>0.0</td>\n",
       "      <td>0.0</td>\n",
       "      <td>...</td>\n",
       "      <td>0.0</td>\n",
       "      <td>0.0</td>\n",
       "      <td>0.0</td>\n",
       "      <td>0.0</td>\n",
       "      <td>0.0</td>\n",
       "      <td>0.0</td>\n",
       "      <td>0.0</td>\n",
       "      <td>0.0</td>\n",
       "      <td>0.452608</td>\n",
       "      <td>0.0</td>\n",
       "    </tr>\n",
       "    <tr>\n",
       "      <th>1</th>\n",
       "      <td>1.000000</td>\n",
       "      <td>0</td>\n",
       "      <td>0</td>\n",
       "      <td>1</td>\n",
       "      <td>4</td>\n",
       "      <td>0.0</td>\n",
       "      <td>0.0</td>\n",
       "      <td>0.0</td>\n",
       "      <td>0.0</td>\n",
       "      <td>0.0</td>\n",
       "      <td>...</td>\n",
       "      <td>0.0</td>\n",
       "      <td>0.0</td>\n",
       "      <td>0.0</td>\n",
       "      <td>0.0</td>\n",
       "      <td>0.0</td>\n",
       "      <td>0.0</td>\n",
       "      <td>0.0</td>\n",
       "      <td>0.0</td>\n",
       "      <td>0.000000</td>\n",
       "      <td>0.0</td>\n",
       "    </tr>\n",
       "    <tr>\n",
       "      <th>2</th>\n",
       "      <td>0.868421</td>\n",
       "      <td>0</td>\n",
       "      <td>0</td>\n",
       "      <td>6</td>\n",
       "      <td>38</td>\n",
       "      <td>0.0</td>\n",
       "      <td>0.0</td>\n",
       "      <td>0.0</td>\n",
       "      <td>0.0</td>\n",
       "      <td>0.0</td>\n",
       "      <td>...</td>\n",
       "      <td>0.0</td>\n",
       "      <td>0.0</td>\n",
       "      <td>0.0</td>\n",
       "      <td>0.0</td>\n",
       "      <td>0.0</td>\n",
       "      <td>0.0</td>\n",
       "      <td>0.0</td>\n",
       "      <td>0.0</td>\n",
       "      <td>0.000000</td>\n",
       "      <td>0.0</td>\n",
       "    </tr>\n",
       "    <tr>\n",
       "      <th>3</th>\n",
       "      <td>0.882353</td>\n",
       "      <td>0</td>\n",
       "      <td>0</td>\n",
       "      <td>3</td>\n",
       "      <td>17</td>\n",
       "      <td>0.0</td>\n",
       "      <td>0.0</td>\n",
       "      <td>0.0</td>\n",
       "      <td>0.0</td>\n",
       "      <td>0.0</td>\n",
       "      <td>...</td>\n",
       "      <td>0.0</td>\n",
       "      <td>0.0</td>\n",
       "      <td>0.0</td>\n",
       "      <td>0.0</td>\n",
       "      <td>0.0</td>\n",
       "      <td>0.0</td>\n",
       "      <td>0.0</td>\n",
       "      <td>0.0</td>\n",
       "      <td>0.000000</td>\n",
       "      <td>0.0</td>\n",
       "    </tr>\n",
       "    <tr>\n",
       "      <th>4</th>\n",
       "      <td>0.812500</td>\n",
       "      <td>0</td>\n",
       "      <td>0</td>\n",
       "      <td>3</td>\n",
       "      <td>16</td>\n",
       "      <td>0.0</td>\n",
       "      <td>0.0</td>\n",
       "      <td>0.0</td>\n",
       "      <td>0.0</td>\n",
       "      <td>0.0</td>\n",
       "      <td>...</td>\n",
       "      <td>0.0</td>\n",
       "      <td>0.0</td>\n",
       "      <td>0.0</td>\n",
       "      <td>0.0</td>\n",
       "      <td>0.0</td>\n",
       "      <td>0.0</td>\n",
       "      <td>0.0</td>\n",
       "      <td>0.0</td>\n",
       "      <td>0.000000</td>\n",
       "      <td>0.0</td>\n",
       "    </tr>\n",
       "  </tbody>\n",
       "</table>\n",
       "<p>5 rows × 957 columns</p>\n",
       "</div>"
      ],
      "text/plain": [
       "    capital  colon  question_mark  wordcount  length   00  000   03  032   05  \\\n",
       "0  0.875000      0              0          4      24  0.0  0.0  0.0  0.0  0.0   \n",
       "1  1.000000      0              0          1       4  0.0  0.0  0.0  0.0  0.0   \n",
       "2  0.868421      0              0          6      38  0.0  0.0  0.0  0.0  0.0   \n",
       "3  0.882353      0              0          3      17  0.0  0.0  0.0  0.0  0.0   \n",
       "4  0.812500      0              0          3      16  0.0  0.0  0.0  0.0  0.0   \n",
       "\n",
       "  ...   xxxx  xxxxx  year  yearly  years  yeast  yes  you      your  zip  \n",
       "0 ...    0.0    0.0   0.0     0.0    0.0    0.0  0.0  0.0  0.452608  0.0  \n",
       "1 ...    0.0    0.0   0.0     0.0    0.0    0.0  0.0  0.0  0.000000  0.0  \n",
       "2 ...    0.0    0.0   0.0     0.0    0.0    0.0  0.0  0.0  0.000000  0.0  \n",
       "3 ...    0.0    0.0   0.0     0.0    0.0    0.0  0.0  0.0  0.000000  0.0  \n",
       "4 ...    0.0    0.0   0.0     0.0    0.0    0.0  0.0  0.0  0.000000  0.0  \n",
       "\n",
       "[5 rows x 957 columns]"
      ]
     },
     "execution_count": 8,
     "metadata": {},
     "output_type": "execute_result"
    }
   ],
   "source": [
    "df.insert(0, \"length\", dataframe['length'], True)\n",
    "df.insert(0, \"wordcount\", dataframe['wordcount'], True)\n",
    "df.insert(0, \"question_mark\", dataframe['question_mark'], True)\n",
    "df.insert(0, \"colon\", dataframe['colon'], True)\n",
    "df.insert(0, \"capital\", dataframe['capital'], True)\n",
    "\n",
    "# make sure they're inserted\n",
    "print(df.shape)\n",
    "df.head()"
   ]
  },
  {
   "cell_type": "code",
   "execution_count": 9,
   "metadata": {},
   "outputs": [
    {
     "data": {
      "text/plain": [
       "((611, 957), (611,))"
      ]
     },
     "execution_count": 9,
     "metadata": {},
     "output_type": "execute_result"
    }
   ],
   "source": [
    "# Split your data into training and test set\n",
    "data_train, data_test, target_train, target_test = train_test_split(df, question_column, test_size=.2)\n",
    "\n",
    "# Make sure that the split is what you intended\n",
    "data_train.shape, target_train.shape"
   ]
  },
  {
   "cell_type": "markdown",
   "metadata": {},
   "source": [
    "## About the model"
   ]
  },
  {
   "cell_type": "markdown",
   "metadata": {},
   "source": [
    "In this demo, we're going to be looking at Linear Regression and K-Nearest Neighbors for classification. These are both supervised machine learning models, which means that the models look for relationships in pre-labeled data, and then uses that to approximate what the correct output labels should be. Unsupervised machine learning does *not* have labeled inputs, so the goal is for the model to infer the natural structure present within a set of data points. (More on supervised vs unsupervised learning [here](https://towardsdatascience.com/supervised-vs-unsupervised-learning-14f68e32ea8d))"
   ]
  },
  {
   "cell_type": "markdown",
   "metadata": {},
   "source": [
    "### Linear Regression"
   ]
  },
  {
   "cell_type": "markdown",
   "metadata": {},
   "source": [
    "Linear regression is based off of a simple linear equation that assigns a scale value ($\\beta$) to each column ($x$) of the input. The sum of these weighted inputs, along with the intercept/bias coefficient ($\\beta_0$), produces the output ($y$). \n",
    "\n",
    "For two columns, the equation looks like this:\n",
    "$$y = \\beta_0 + \\beta_1 x_1 + \\beta_2 x_2$$"
   ]
  },
  {
   "cell_type": "code",
   "execution_count": 10,
   "metadata": {},
   "outputs": [
    {
     "data": {
      "text/plain": [
       "LinearRegression(copy_X=True, fit_intercept=True, n_jobs=None, normalize=True)"
      ]
     },
     "execution_count": 10,
     "metadata": {},
     "output_type": "execute_result"
    }
   ],
   "source": [
    "# Train and fit your model\n",
    "linreg = LinearRegression(normalize=True)\n",
    "linreg.fit(data_train, target_train)"
   ]
  },
  {
   "cell_type": "code",
   "execution_count": 14,
   "metadata": {
    "scrolled": true
   },
   "outputs": [
    {
     "data": {
      "text/plain": [
       "array([0, 1, 1, 1, 1, 1, 0, 0, 1, 0, 1, 1, 1, 0, 1, 1, 1, 0, 1, 1, 1, 1,\n",
       "       1, 1, 1, 1, 0, 1, 1, 1, 1, 1, 0, 1, 1, 1, 1, 1, 0, 1, 1, 1, 1, 0,\n",
       "       0, 1, 1, 0, 0, 1, 1, 0, 1, 1, 1, 1, 1, 1, 0, 0, 1, 1, 1, 1, 1, 1,\n",
       "       0, 1, 0, 0, 1, 1, 1, 1, 0, 1, 0, 1, 1, 1, 1, 1, 1, 1, 0, 1, 1, 1,\n",
       "       0, 1, 1, 0, 1, 0, 0, 1, 0, 1, 1, 1, 1, 1, 1, 0, 1, 0, 1, 1, 1, 1,\n",
       "       1, 1, 0, 1, 1, 1, 1, 1, 1, 0, 1, 1, 0, 1, 0, 1, 0, 1, 0, 1, 0, 1,\n",
       "       1, 1, 0, 1, 1, 1, 1, 1, 1, 1, 1, 1, 1, 1, 0, 1, 1, 0, 0, 1, 1])"
      ]
     },
     "execution_count": 14,
     "metadata": {},
     "output_type": "execute_result"
    }
   ],
   "source": [
    "# Predict your model, gives out what the model classify the training data as\n",
    "predicted_values = (linreg.predict(data_test) > 0) * 1\n",
    "predicted_values"
   ]
  },
  {
   "cell_type": "code",
   "execution_count": 15,
   "metadata": {},
   "outputs": [
    {
     "data": {
      "text/plain": [
       "60.130718954248366"
      ]
     },
     "execution_count": 15,
     "metadata": {},
     "output_type": "execute_result"
    }
   ],
   "source": [
    "accuracy_score(target_test, predicted_values) * 100"
   ]
  },
  {
   "cell_type": "markdown",
   "metadata": {},
   "source": [
    "That's not very good (only a little better than guessing)! This is because linear regression is typically used for *predictions* (continuous values) and not *classifications* (discrete values). For classification, we typically use other models like logistic regression, which uses a different mathematical function, instead."
   ]
  },
  {
   "cell_type": "markdown",
   "metadata": {},
   "source": [
    "### K-Nearest Neighbors"
   ]
  },
  {
   "cell_type": "markdown",
   "metadata": {},
   "source": [
    "The KNN algorithm works by assuming that similar things exist in close proximity. \"Closeness\" can be defined in a variety of different ways, but many implementations of KNN simply calculate the straight line distance between two points (even on data with multiple dimensions). Whenever a datapoint needs to be classified, the KNN algorithm looks at its $k$ nearest neighbors, aka the $k$ other known datapoints that are closest to where this new datapoint is located. These neighbors will \"vote\" on how the new datapoint should be classified.\n",
    "\n",
    "Here's a brief overview of how the algorithm works:\n",
    "1. Initialize k (a hyperparameter that's passed into the function -- more on that below) to be the number of neighbors you want the algorithm to use. How many neighbors depends on your data, and you have to experiment with different values to find the best one. In the example below, we use `n_neighbors=3` (where `n_neighbors` is the same thing as `k`).\n",
    "2. Let's refer to the point being classified as the query point. Calculate the distance between the query point and each point in the dataset. (Note: As you might imagine, this is super inefficient as your dataset gets bigger. sklearn's KNN classifier has an `algorithm` argument that you can set depending on the structure of your data to try and make this process more runtime efficient.)\n",
    "3. Find the `k` neighbors with the smallest distance to the query point\n",
    "4. Get the labels of the `k` neighbors\n",
    "5. Use the mode of the labels will as the classification for the query point"
   ]
  },
  {
   "cell_type": "code",
   "execution_count": 16,
   "metadata": {},
   "outputs": [
    {
     "data": {
      "text/plain": [
       "KNeighborsClassifier(algorithm='auto', leaf_size=30, metric='minkowski',\n",
       "                     metric_params=None, n_jobs=None, n_neighbors=3, p=2,\n",
       "                     weights='uniform')"
      ]
     },
     "execution_count": 16,
     "metadata": {},
     "output_type": "execute_result"
    }
   ],
   "source": [
    "# Train and fit your model\n",
    "neigh = KNeighborsClassifier(n_neighbors=3)\n",
    "neigh.fit(data_train, target_train)"
   ]
  },
  {
   "cell_type": "markdown",
   "metadata": {},
   "source": [
    "Notice that in our example we only set the `n_neighbors` parameter, but there are a lot of other parameters that you can set depending on the dataset you're working with! Notice that several parameters like `algorithm`, `leaf_size` and `weights` have default settings. Read through the description of each parameter in the [KNN sklearn documentation](https://scikit-learn.org/stable/modules/generated/sklearn.neighbors.KNeighborsClassifier.html) to find out what these parameters represent and how they each change the way that the model outputs predictions."
   ]
  },
  {
   "cell_type": "code",
   "execution_count": 17,
   "metadata": {},
   "outputs": [
    {
     "data": {
      "text/plain": [
       "array([0, 1, 1, 0, 0, 1, 1, 1, 0, 1, 1, 1, 0, 1, 1, 0, 1, 1, 1, 1, 1, 1,\n",
       "       1, 1, 1, 1, 0, 0, 1, 1, 0, 0, 0, 1, 1, 1, 0, 0, 1, 0, 1, 1, 1, 0,\n",
       "       1, 1, 1, 0, 0, 1, 1, 1, 1, 1, 0, 1, 1, 0, 0, 1, 1, 1, 1, 1, 1, 1,\n",
       "       0, 1, 0, 1, 0, 1, 1, 0, 1, 1, 1, 1, 1, 0, 0, 1, 1, 0, 1, 1, 0, 1,\n",
       "       1, 1, 0, 1, 1, 1, 1, 1, 1, 1, 0, 1, 0, 0, 1, 1, 1, 1, 1, 1, 0, 1,\n",
       "       1, 1, 1, 1, 1, 1, 0, 1, 1, 1, 0, 1, 1, 1, 1, 0, 1, 0, 0, 1, 1, 0,\n",
       "       1, 1, 1, 0, 1, 1, 1, 0, 0, 1, 0, 1, 1, 1, 1, 1, 1, 1, 0, 1, 1])"
      ]
     },
     "execution_count": 17,
     "metadata": {},
     "output_type": "execute_result"
    }
   ],
   "source": [
    "# Predict your model, gives out what the model classify the training data as\n",
    "predicted_values = neigh.predict(data_test)\n",
    "predicted_values"
   ]
  },
  {
   "cell_type": "code",
   "execution_count": 18,
   "metadata": {},
   "outputs": [
    {
     "data": {
      "text/plain": [
       "70.58823529411765"
      ]
     },
     "execution_count": 18,
     "metadata": {},
     "output_type": "execute_result"
    }
   ],
   "source": [
    "accuracy_score(target_test, predicted_values) * 100"
   ]
  },
  {
   "cell_type": "markdown",
   "metadata": {},
   "source": [
    "## Improve on your model\n",
    "\n",
    "A big problem in training model is the potential that the model is being too biased and overfitting (aka only do well on the set of labels that we trained on and do very poorly on other new data). Adding new features will not necessarily make a model better because the more features you add, the more specific these features apply the datapoints that you train it on, but the less features you have, you are restricting your data to live in a lower dimensional subspace (not enough dimensions to define the features). We can rely on other techniques such as hyperparameter tuning and cross validation to make a model better.\n",
    "\n",
    "Hyperparameters are the values that you need to input in a model. These aren't the features in your model but are values that set of values that define the behavior of your model. Some hyperparameters result in bad models while some give out great models. We will need to find the best hyperparameters that define our model.\n",
    "\n",
    "GridSearchCV (stands for Grid Search Cross Validation) performs hyperparameter tuning to try all of the different combinations of possible hyperparameters that you provide to it to find the best ones. In our example below, we generate arrays of possible values for `n_neighbors` (1 through 40) and possible settings for the weights (`uniform` and `distance`). We then pass it into GridSearchCV and let it decide the best params to use, then store the model with the best parameters in the variable `best_model`."
   ]
  },
  {
   "cell_type": "code",
   "execution_count": 19,
   "metadata": {},
   "outputs": [
    {
     "name": "stdout",
     "output_type": "stream",
     "text": [
      "Best n_neighbors:  19\n",
      "Best weights:  distance\n"
     ]
    }
   ],
   "source": [
    "# Hyperparameter tuning using GridSearchCV\n",
    "# Click here to read for more hyperparameter tuning: \n",
    "# https://medium.com/@mandava807/cross-validation-and-hyperparameter-tuning-in-python-65cfb80ee485\n",
    "\n",
    "data_train, data_test, target_train, target_test = train_test_split(df, question_column, test_size=.2)\n",
    "neigh = KNeighborsClassifier()\n",
    "\n",
    "# Create an array of all possible hyperparam values\n",
    "n_neighbors = np.arange(1, 40, 1)\n",
    "weights = ['uniform', 'distance']\n",
    "\n",
    "# Perform GridSearchCV and fit the model to find the best params\n",
    "hyperparams = dict(n_neighbors=n_neighbors, weights=weights)\n",
    "gs = GridSearchCV(neigh, hyperparams, cv=5, verbose=0)\n",
    "best_model = gs.fit(data_train, target_train)\n",
    "\n",
    "best_n_neighbor = best_model.best_estimator_.get_params()['n_neighbors']\n",
    "best_weight = best_model.best_estimator_.get_params()['weights']\n",
    "\n",
    "print('Best n_neighbors: ', best_n_neighbor)\n",
    "print('Best weights: ', best_weight)"
   ]
  },
  {
   "cell_type": "markdown",
   "metadata": {},
   "source": [
    "Cross validation is a technique to split your training set into 2 smaller sub training sets such that you train your data on the smaller subset and validate your data on the other subset. The goal of cross validation is to examine if your model is being overfitted or not. It is also useful to examine the accuracy of your model after finetuning hyperparameters."
   ]
  },
  {
   "cell_type": "code",
   "execution_count": 20,
   "metadata": {},
   "outputs": [
    {
     "name": "stdout",
     "output_type": "stream",
     "text": [
      "Accuracy from training data:  80.20125283220045\n"
     ]
    }
   ],
   "source": [
    "neigh = KNeighborsClassifier(n_neighbors=best_n_neighbor, weights=best_weight)\n",
    "\n",
    "# Perform cross validation on the selected params, k=5 is usually pretty good\n",
    "kfold = KFold(n_splits=5)\n",
    "results = cross_val_score(neigh, data_train, target_train, cv=kfold)\n",
    "print('Accuracy from training data: ', results.mean() * 100)"
   ]
  },
  {
   "cell_type": "code",
   "execution_count": 21,
   "metadata": {},
   "outputs": [
    {
     "name": "stdout",
     "output_type": "stream",
     "text": [
      "Accuracy from testing data:  79.73856209150327\n"
     ]
    }
   ],
   "source": [
    "neigh.fit(data_train, target_train)\n",
    "predicted_values = neigh.predict(data_test)\n",
    "score = accuracy_score(target_test, predicted_values)\n",
    "print('Accuracy from testing data: ', score * 100)"
   ]
  },
  {
   "cell_type": "markdown",
   "metadata": {},
   "source": [
    "## Gradient Descent"
   ]
  },
  {
   "cell_type": "markdown",
   "metadata": {
    "collapsed": true
   },
   "source": [
    "Another tool to improve accuracy is gradient descent. This specifically only works for differentiable models (LinearSVC, Logistic Regression), but it uses a gradient and a learning rate to adjust the weights of the inputs and minimize loss (difference between the predicted value that the model outputs and the actual value). The Stochastic Gradient Descent classifier in sklearn "
   ]
  },
  {
   "cell_type": "code",
   "execution_count": 55,
   "metadata": {},
   "outputs": [
    {
     "data": {
      "text/plain": [
       "SGDClassifier(alpha=0.0001, average=False, class_weight=None,\n",
       "              early_stopping=False, epsilon=0.1, eta0=0.0, fit_intercept=True,\n",
       "              l1_ratio=0.15, learning_rate='optimal', loss='hinge',\n",
       "              max_iter=1000, n_iter_no_change=5, n_jobs=None, penalty='l2',\n",
       "              power_t=0.5, random_state=None, shuffle=True, tol=0.001,\n",
       "              validation_fraction=0.1, verbose=0, warm_start=False)"
      ]
     },
     "execution_count": 55,
     "metadata": {},
     "output_type": "execute_result"
    }
   ],
   "source": [
    "# SGD = Stochastic Gradient Descent\n",
    "sgd = SGDClassifier(max_iter=1000, tol=1e-3) # can use GridSearch to tune these hyperparams too\n",
    "sgd_model = sgd.fit(data_train, target_train)\n",
    "sgd_model"
   ]
  },
  {
   "cell_type": "code",
   "execution_count": 56,
   "metadata": {},
   "outputs": [
    {
     "data": {
      "text/plain": [
       "array([1, 0, 1, 1, 1, 1, 1, 0, 1, 1, 0, 1, 1, 0, 0, 1, 0, 0, 0, 0, 1, 1,\n",
       "       1, 0, 1, 0, 1, 0, 1, 1, 1, 1, 1, 1, 1, 1, 1, 1, 1, 1, 1, 1, 1, 0,\n",
       "       1, 1, 0, 0, 1, 0, 0, 1, 1, 0, 1, 1, 1, 0, 1, 1, 1, 1, 1, 1, 1, 1,\n",
       "       1, 1, 1, 1, 1, 0, 1, 1, 0, 1, 1, 1, 1, 1, 0, 0, 1, 1, 1, 1, 0, 1,\n",
       "       1, 1, 1, 0, 0, 0, 1, 0, 1, 1, 0, 1, 1, 0, 0, 1, 1, 1, 0, 1, 0, 0,\n",
       "       1, 1, 0, 1, 0, 0, 0, 1, 0, 1, 0, 1, 1, 1, 1, 0, 1, 0, 1, 0, 1, 1,\n",
       "       1, 1, 1, 1, 1, 1, 1, 1, 1, 1, 1, 1, 1, 1, 0, 1, 0, 1, 0, 0, 0])"
      ]
     },
     "execution_count": 56,
     "metadata": {},
     "output_type": "execute_result"
    }
   ],
   "source": [
    "predicted_values = sgd_model.predict(data_test)\n",
    "predicted_values"
   ]
  },
  {
   "cell_type": "code",
   "execution_count": 57,
   "metadata": {},
   "outputs": [
    {
     "name": "stdout",
     "output_type": "stream",
     "text": [
      "Accuracy from stochastic gradient descent:  73.8562091503268\n"
     ]
    }
   ],
   "source": [
    "sgd_accuracy = accuracy_score(target_test, predicted_values)\n",
    "print('Accuracy from stochastic gradient descent: ', sgd_accuracy * 100)"
   ]
  },
  {
   "cell_type": "markdown",
   "metadata": {},
   "source": [
    "We can also use cross validation on top of gradient descent to check for overfitting."
   ]
  },
  {
   "cell_type": "code",
   "execution_count": 58,
   "metadata": {},
   "outputs": [
    {
     "name": "stdout",
     "output_type": "stream",
     "text": [
      "Accuracy from training data:  69.87338397974143\n"
     ]
    }
   ],
   "source": [
    "# Perform cross validation on the selected params, k=5 is usually pretty good\n",
    "sgd_kfold = KFold(n_splits=5)\n",
    "sgd_results = cross_val_score(sgd, data_train, target_train, cv=kfold)\n",
    "print('Accuracy from training data: ', sgd_results.mean() * 100)"
   ]
  },
  {
   "cell_type": "code",
   "execution_count": 59,
   "metadata": {},
   "outputs": [
    {
     "name": "stdout",
     "output_type": "stream",
     "text": [
      "Accuracy from testing data:  75.81699346405229\n"
     ]
    }
   ],
   "source": [
    "sgd.fit(data_train, target_train)\n",
    "predicted_values = sgd.predict(data_test)\n",
    "sgd_score = accuracy_score(target_test, predicted_values)\n",
    "print('Accuracy from testing data: ', sgd_score * 100)"
   ]
  },
  {
   "cell_type": "code",
   "execution_count": null,
   "metadata": {},
   "outputs": [],
   "source": []
  }
 ],
 "metadata": {
  "kernelspec": {
   "display_name": "Python 3",
   "language": "python",
   "name": "python3"
  },
  "language_info": {
   "codemirror_mode": {
    "name": "ipython",
    "version": 3
   },
   "file_extension": ".py",
   "mimetype": "text/x-python",
   "name": "python",
   "nbconvert_exporter": "python",
   "pygments_lexer": "ipython3",
   "version": "3.6.9"
  }
 },
 "nbformat": 4,
 "nbformat_minor": 2
}
